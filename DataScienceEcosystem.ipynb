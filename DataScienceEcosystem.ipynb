{
 "cells": [
  {
   "cell_type": "markdown",
   "id": "cc12defe-a15f-4134-a4aa-00d2112b9508",
   "metadata": {},
   "source": [
    "# Data Science Tools and Ecosystem"
   ]
  },
  {
   "cell_type": "markdown",
   "id": "b8e31064-b8b1-411d-81ca-9d14152d6c0c",
   "metadata": {},
   "source": [
    "In this notebook, Data Science Tools and Ecosystem are summarized.\n"
   ]
  },
  {
   "cell_type": "markdown",
   "id": "71b33ba7-2ab2-44e7-9743-df2bd31c5fc3",
   "metadata": {},
   "source": [
    "**Objectives:**\n",
    "\n",
    "  * List popular languages for Data Science\n",
    "  * List popular libraries for Data Science\n",
    "  * Perform minutes to hours conversion\n",
    "  * Perform simple arithmetic\n",
    "  * Create a markdown table"
   ]
  },
  {
   "cell_type": "markdown",
   "id": "b46856f0-4fd1-4567-bfa7-f16cda3c91d4",
   "metadata": {},
   "source": [
    "Some of the popular languages that Data Scientists use are:\n",
    "\n",
    "1. Python\n",
    "2. R\n",
    "3. Scala\n",
    "4. Julia"
   ]
  },
  {
   "cell_type": "markdown",
   "id": "7b9ab5e0-d546-43ad-a81b-ae70c6531391",
   "metadata": {},
   "source": [
    "Some of the commonly used libraries used by Data Scientists include:\n",
    "\n",
    "  1. Tensorflow\n",
    "  2. Keras\n",
    "  3. MatPlotLib\n",
    "  4. NumPy\n",
    "  5. Pandas"
   ]
  },
  {
   "cell_type": "markdown",
   "id": "62493f64-289e-4351-a8db-6658586486f0",
   "metadata": {},
   "source": [
    "| Data Science Tools |\n",
    "|--------------------|\n",
    "|Jupiter Lab|\n",
    "|Visual studio|\n",
    "|Anaconda|\n"
   ]
  },
  {
   "cell_type": "markdown",
   "id": "4fdb15e8-bddd-4a4f-8731-919fc3e79292",
   "metadata": {},
   "source": [
    "### Below are a few examples of evaluating arithmetic expressions in Python"
   ]
  },
  {
   "cell_type": "code",
   "execution_count": 1,
   "id": "e8f84471-08d6-464c-b44c-330ca1f11938",
   "metadata": {},
   "outputs": [
    {
     "data": {
      "text/plain": [
       "17"
      ]
     },
     "execution_count": 1,
     "metadata": {},
     "output_type": "execute_result"
    }
   ],
   "source": [
    "# This a simple arithmetic expression to mutiply then add integers\n",
    "\n",
    "(3*4)+5"
   ]
  },
  {
   "cell_type": "code",
   "execution_count": 2,
   "id": "cd08a4f2-17a0-47fe-bea5-ba85624a87ad",
   "metadata": {},
   "outputs": [
    {
     "data": {
      "text/plain": [
       "3.3333333333333335"
      ]
     },
     "execution_count": 2,
     "metadata": {},
     "output_type": "execute_result"
    }
   ],
   "source": [
    " # This will convert 200 minutes to hours by diving by 60\n",
    "\n",
    "200 / 60"
   ]
  },
  {
   "cell_type": "markdown",
   "id": "ef77a6f9-ad8b-496e-b1e4-cb84132a5193",
   "metadata": {},
   "source": [
    "## Author\n",
    "\n",
    "Hendrix Etumah"
   ]
  },
  {
   "cell_type": "code",
   "execution_count": null,
   "id": "41ea9365-bc8a-4cf6-983e-7ed47460c4a2",
   "metadata": {},
   "outputs": [],
   "source": []
  }
 ],
 "metadata": {
  "kernelspec": {
   "display_name": "Python 3 (ipykernel)",
   "language": "python",
   "name": "python3"
  },
  "language_info": {
   "codemirror_mode": {
    "name": "ipython",
    "version": 3
   },
   "file_extension": ".py",
   "mimetype": "text/x-python",
   "name": "python",
   "nbconvert_exporter": "python",
   "pygments_lexer": "ipython3",
   "version": "3.11.9"
  }
 },
 "nbformat": 4,
 "nbformat_minor": 5
}
